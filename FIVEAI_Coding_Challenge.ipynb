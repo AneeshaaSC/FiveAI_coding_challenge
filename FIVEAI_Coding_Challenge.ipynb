{
  "nbformat": 4,
  "nbformat_minor": 0,
  "metadata": {
    "colab": {
      "name": "FIVEAI_Coding Challenge.ipynb",
      "provenance": []
    },
    "kernelspec": {
      "name": "python3",
      "display_name": "Python 3"
    }
  },
  "cells": [
    {
      "cell_type": "code",
      "metadata": {
        "id": "l25VXtLtIEGx",
        "colab_type": "code",
        "colab": {}
      },
      "source": [
        "def findland(l,lis):\n",
        "\n",
        "\n",
        "  #assuming there is at least one piece of land\n",
        "  c=[1]\n",
        "\n",
        "  # compare each rectange with all others after it. Assumes a certain order.\n",
        "  for i in range(0,l-1):\n",
        "    #print('--------------------------------------')\n",
        "    #print('')\n",
        "    #print('')\n",
        "    #print('i = ',i)\n",
        "    #print(i,'th element = ',lis[i])\n",
        "    r1x1 = lis[i][0]\n",
        "    r1y1 = lis[i][1]\n",
        "    r1x2 = lis[i][2]\n",
        "    r1y2 = lis[i][3]\n",
        "    for j in range(i+1,l):\n",
        "      #print('j = ',j)\n",
        "      #print(j,'th element = ',lis[j])\n",
        "      r2x1 = lis[j][0]\n",
        "      r2y1 = lis[j][1]\n",
        "      r2x2 = lis[j][2]\n",
        "      r2y2 = lis[j][3]\n",
        "      #print('c at this point = ',c)\n",
        "      #compare corner co-ordinates to find overlap\n",
        "      if r1x1 <= r2x1 and r1y1 <= r2y1 and r2x2 <= r1x2 and r2y2 <= r1y2:\n",
        "        if i==0:\n",
        "          #append initially\n",
        "          c.append(int(not(c[j-1])))\n",
        "        else:\n",
        "          #just assign opposite polarity for now. this will correct itself in upcoming iterations\n",
        "          c[j] = int(not(c[i]))\n",
        "      else:\n",
        "        if i>0:\n",
        "          continue\n",
        "        else:\n",
        "          #assume its other piece of land. this will correct itself in upcoming iterations\n",
        "          c.append(1)\n",
        "\n",
        "  return sum(c)\n",
        "    "
      ],
      "execution_count": 0,
      "outputs": []
    },
    {
      "cell_type": "markdown",
      "metadata": {
        "id": "nzPbMOculZbf",
        "colab_type": "text"
      },
      "source": [
        "# Test Case 1"
      ]
    },
    {
      "cell_type": "code",
      "metadata": {
        "id": "VQKfic4MHY1Q",
        "colab_type": "code",
        "colab": {}
      },
      "source": [
        "l = 14\n",
        "lis = [[1.0, 1.0, 10.0, 6.0],\n",
        "[1.5 ,1.5 ,6.0, 5.0],\n",
        "[2.0, 2.0, 3.0 ,3.0],\n",
        "[2.0, 3.5, 3.0 ,4.5],\n",
        "[3.5, 2.0, 5.5 ,4.5],\n",
        "[4.0 ,3.5, 5.0, 4.0],\n",
        "[4.0, 2.5, 5.0, 3.0],\n",
        "[7.0, 3.0, 9.5, 5.5],\n",
        "[7.5, 4.0, 8.0, 5.0],\n",
        "[8.5, 3.5, 9.0, 4.5],\n",
        "[3.0, 7.0, 8.0 ,10.0],\n",
        "[5.0, 7.5, 7.5 ,9.5],\n",
        "[5.5, 8.0, 6.0, 9.0],\n",
        "[6.5, 8.0 ,7.0 ,9.0]]"
      ],
      "execution_count": 0,
      "outputs": []
    },
    {
      "cell_type": "code",
      "metadata": {
        "id": "m70dtzAKlbjn",
        "colab_type": "code",
        "colab": {
          "base_uri": "https://localhost:8080/",
          "height": 34
        },
        "outputId": "421c452f-aaf1-4aee-db83-7698eb086d21"
      },
      "source": [
        "print(findland(l,lis))"
      ],
      "execution_count": 19,
      "outputs": [
        {
          "output_type": "stream",
          "text": [
            "9\n"
          ],
          "name": "stdout"
        }
      ]
    },
    {
      "cell_type": "markdown",
      "metadata": {
        "id": "iuHPaDs_liF2",
        "colab_type": "text"
      },
      "source": [
        "#Test Case 2"
      ]
    },
    {
      "cell_type": "code",
      "metadata": {
        "id": "r63MbPxuMpQ9",
        "colab_type": "code",
        "colab": {}
      },
      "source": [
        "l = 7\n",
        "lis = [[1.0, 2.0, 5.0, 7.0],\n",
        "[1.5 ,3 ,4.0, 5.0],\n",
        "[2.0, 3.5, 3.0 ,4.5],\n",
        "[7, 1, 9 ,5],\n",
        "[7.5, 4, 8.5 ,4.5],\n",
        "[7.5 ,2.5, 8.5, 3.5],\n",
        "[8.0, 1.5, 8.5, 2]]"
      ],
      "execution_count": 0,
      "outputs": []
    },
    {
      "cell_type": "code",
      "metadata": {
        "id": "BFvyiOZdJCcQ",
        "colab_type": "code",
        "colab": {
          "base_uri": "https://localhost:8080/",
          "height": 34
        },
        "outputId": "6212c81e-6b9e-4c19-e1aa-f7278af636c7"
      },
      "source": [
        "print(findland(l,lis))"
      ],
      "execution_count": 22,
      "outputs": [
        {
          "output_type": "stream",
          "text": [
            "3\n"
          ],
          "name": "stdout"
        }
      ]
    },
    {
      "cell_type": "markdown",
      "metadata": {
        "id": "izsC5dZVtySy",
        "colab_type": "text"
      },
      "source": [
        "# Test Case 3\n",
        "## Code assumes an order in the occurrences of rectangles in the list - a rectangle is followed by the ones it overlaps with. If these appear before/earlier in than the rectangle in question, results will be wrong"
      ]
    },
    {
      "cell_type": "code",
      "metadata": {
        "id": "XOHTkTg9lzAl",
        "colab_type": "code",
        "colab": {}
      },
      "source": [
        "l = 7\n",
        "lis = [[1.0, 2.0, 5.0, 7.0],\n",
        "[1.5 ,3 ,4.0, 5.0],\n",
        "[2.0, 3.5, 3.0 ,4.5],\n",
        "[7.5, 4, 8.5 ,4.5],\n",
        "[7.5 ,2.5, 8.5, 3.5],\n",
        "[8.0, 1.5, 8.5, 2],\n",
        "[7, 1, 9 ,5]]"
      ],
      "execution_count": 0,
      "outputs": []
    },
    {
      "cell_type": "code",
      "metadata": {
        "id": "rNLcGqRIl4mF",
        "colab_type": "code",
        "colab": {
          "base_uri": "https://localhost:8080/",
          "height": 34
        },
        "outputId": "547314b9-3ad8-4755-e112-320418f443dc"
      },
      "source": [
        "print(findland(l,lis))"
      ],
      "execution_count": 24,
      "outputs": [
        {
          "output_type": "stream",
          "text": [
            "6\n"
          ],
          "name": "stdout"
        }
      ]
    },
    {
      "cell_type": "markdown",
      "metadata": {
        "id": "1-GvpPYHuSGk",
        "colab_type": "text"
      },
      "source": [
        "# To Debug"
      ]
    },
    {
      "cell_type": "code",
      "metadata": {
        "id": "UfZEsLQRl5iS",
        "colab_type": "code",
        "colab": {
          "base_uri": "https://localhost:8080/",
          "height": 1000
        },
        "outputId": "df96d11d-7995-4df2-880f-32d6b1a7d066"
      },
      "source": [
        "  c=[1]\n",
        "\n",
        "  # compare each rectange with all others after it. Assumes a certain order.\n",
        "  for i in range(0,l-1):\n",
        "    print('--------------------------------------')\n",
        "    print('')\n",
        "    print('')\n",
        "    print('i = ',i)\n",
        "    print(i,'th element = ',lis[i])\n",
        "    r1x1 = lis[i][0]\n",
        "    r1y1 = lis[i][1]\n",
        "    r1x2 = lis[i][2]\n",
        "    r1y2 = lis[i][3]\n",
        "    for j in range(i+1,l):\n",
        "      print('j = ',j)\n",
        "      print(j,'th element = ',lis[j])\n",
        "      r2x1 = lis[j][0]\n",
        "      r2y1 = lis[j][1]\n",
        "      r2x2 = lis[j][2]\n",
        "      r2y2 = lis[j][3]\n",
        "      print('c at this point = ',c)\n",
        "      #compare corner co-ordinates to find overlap\n",
        "      if r1x1 <= r2x1 and r1y1 <= r2y1 and r2x2 <= r1x2 and r2y2 <= r1y2:\n",
        "        if i==0:\n",
        "          #append initially\n",
        "          c.append(int(not(c[j-1])))\n",
        "        else:\n",
        "          #just assign opposite polarity for now. this will correct itself in upcoming iterations\n",
        "          c[j] = int(not(c[i]))\n",
        "      else:\n",
        "        if i>0:\n",
        "          continue\n",
        "        else:\n",
        "          #assume its other piece of land. this will correct itself in upcoming iterations\n",
        "          c.append(1)\n",
        "\n",
        "print(sum(c))"
      ],
      "execution_count": 25,
      "outputs": [
        {
          "output_type": "stream",
          "text": [
            "--------------------------------------\n",
            "\n",
            "\n",
            "i =  0\n",
            "0 th element =  [1.0, 2.0, 5.0, 7.0]\n",
            "j =  1\n",
            "1 th element =  [1.5, 3, 4.0, 5.0]\n",
            "c at this point =  [1]\n",
            "j =  2\n",
            "2 th element =  [2.0, 3.5, 3.0, 4.5]\n",
            "c at this point =  [1, 0]\n",
            "j =  3\n",
            "3 th element =  [7.5, 4, 8.5, 4.5]\n",
            "c at this point =  [1, 0, 1]\n",
            "j =  4\n",
            "4 th element =  [7.5, 2.5, 8.5, 3.5]\n",
            "c at this point =  [1, 0, 1, 1]\n",
            "j =  5\n",
            "5 th element =  [8.0, 1.5, 8.5, 2]\n",
            "c at this point =  [1, 0, 1, 1, 1]\n",
            "j =  6\n",
            "6 th element =  [7, 1, 9, 5]\n",
            "c at this point =  [1, 0, 1, 1, 1, 1]\n",
            "--------------------------------------\n",
            "\n",
            "\n",
            "i =  1\n",
            "1 th element =  [1.5, 3, 4.0, 5.0]\n",
            "j =  2\n",
            "2 th element =  [2.0, 3.5, 3.0, 4.5]\n",
            "c at this point =  [1, 0, 1, 1, 1, 1, 1]\n",
            "j =  3\n",
            "3 th element =  [7.5, 4, 8.5, 4.5]\n",
            "c at this point =  [1, 0, 1, 1, 1, 1, 1]\n",
            "j =  4\n",
            "4 th element =  [7.5, 2.5, 8.5, 3.5]\n",
            "c at this point =  [1, 0, 1, 1, 1, 1, 1]\n",
            "j =  5\n",
            "5 th element =  [8.0, 1.5, 8.5, 2]\n",
            "c at this point =  [1, 0, 1, 1, 1, 1, 1]\n",
            "j =  6\n",
            "6 th element =  [7, 1, 9, 5]\n",
            "c at this point =  [1, 0, 1, 1, 1, 1, 1]\n",
            "--------------------------------------\n",
            "\n",
            "\n",
            "i =  2\n",
            "2 th element =  [2.0, 3.5, 3.0, 4.5]\n",
            "j =  3\n",
            "3 th element =  [7.5, 4, 8.5, 4.5]\n",
            "c at this point =  [1, 0, 1, 1, 1, 1, 1]\n",
            "j =  4\n",
            "4 th element =  [7.5, 2.5, 8.5, 3.5]\n",
            "c at this point =  [1, 0, 1, 1, 1, 1, 1]\n",
            "j =  5\n",
            "5 th element =  [8.0, 1.5, 8.5, 2]\n",
            "c at this point =  [1, 0, 1, 1, 1, 1, 1]\n",
            "j =  6\n",
            "6 th element =  [7, 1, 9, 5]\n",
            "c at this point =  [1, 0, 1, 1, 1, 1, 1]\n",
            "--------------------------------------\n",
            "\n",
            "\n",
            "i =  3\n",
            "3 th element =  [7.5, 4, 8.5, 4.5]\n",
            "j =  4\n",
            "4 th element =  [7.5, 2.5, 8.5, 3.5]\n",
            "c at this point =  [1, 0, 1, 1, 1, 1, 1]\n",
            "j =  5\n",
            "5 th element =  [8.0, 1.5, 8.5, 2]\n",
            "c at this point =  [1, 0, 1, 1, 1, 1, 1]\n",
            "j =  6\n",
            "6 th element =  [7, 1, 9, 5]\n",
            "c at this point =  [1, 0, 1, 1, 1, 1, 1]\n",
            "--------------------------------------\n",
            "\n",
            "\n",
            "i =  4\n",
            "4 th element =  [7.5, 2.5, 8.5, 3.5]\n",
            "j =  5\n",
            "5 th element =  [8.0, 1.5, 8.5, 2]\n",
            "c at this point =  [1, 0, 1, 1, 1, 1, 1]\n",
            "j =  6\n",
            "6 th element =  [7, 1, 9, 5]\n",
            "c at this point =  [1, 0, 1, 1, 1, 1, 1]\n",
            "--------------------------------------\n",
            "\n",
            "\n",
            "i =  5\n",
            "5 th element =  [8.0, 1.5, 8.5, 2]\n",
            "j =  6\n",
            "6 th element =  [7, 1, 9, 5]\n",
            "c at this point =  [1, 0, 1, 1, 1, 1, 1]\n",
            "6\n"
          ],
          "name": "stdout"
        }
      ]
    },
    {
      "cell_type": "code",
      "metadata": {
        "id": "NFjepznitoz2",
        "colab_type": "code",
        "colab": {}
      },
      "source": [
        ""
      ],
      "execution_count": 0,
      "outputs": []
    }
  ]
}